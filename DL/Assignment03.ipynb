{
 "cells": [
  {
   "cell_type": "code",
   "execution_count": 1,
   "metadata": {},
   "outputs": [],
   "source": [
    "import pandas as pd\n",
    "import numpy as np\n",
    "import tensorflow as tf\n",
    "from tensorflow.keras import Sequential"
   ]
  },
  {
   "cell_type": "code",
   "execution_count": 2,
   "metadata": {},
   "outputs": [
    {
     "data": {
      "text/html": [
       "<div>\n",
       "<style scoped>\n",
       "    .dataframe tbody tr th:only-of-type {\n",
       "        vertical-align: middle;\n",
       "    }\n",
       "\n",
       "    .dataframe tbody tr th {\n",
       "        vertical-align: top;\n",
       "    }\n",
       "\n",
       "    .dataframe thead th {\n",
       "        text-align: right;\n",
       "    }\n",
       "</style>\n",
       "<table border=\"1\" class=\"dataframe\">\n",
       "  <thead>\n",
       "    <tr style=\"text-align: right;\">\n",
       "      <th></th>\n",
       "      <th>Date</th>\n",
       "      <th>Open</th>\n",
       "      <th>High</th>\n",
       "      <th>Low</th>\n",
       "      <th>Close</th>\n",
       "      <th>Volume</th>\n",
       "    </tr>\n",
       "  </thead>\n",
       "  <tbody>\n",
       "    <tr>\n",
       "      <th>0</th>\n",
       "      <td>12/19/2016</td>\n",
       "      <td>790.219971</td>\n",
       "      <td>797.659973</td>\n",
       "      <td>786.270020</td>\n",
       "      <td>794.200012</td>\n",
       "      <td>1225900</td>\n",
       "    </tr>\n",
       "    <tr>\n",
       "      <th>1</th>\n",
       "      <td>12/20/2016</td>\n",
       "      <td>796.760010</td>\n",
       "      <td>798.650024</td>\n",
       "      <td>793.270020</td>\n",
       "      <td>796.419983</td>\n",
       "      <td>925100</td>\n",
       "    </tr>\n",
       "    <tr>\n",
       "      <th>2</th>\n",
       "      <td>12/21/2016</td>\n",
       "      <td>795.840027</td>\n",
       "      <td>796.676025</td>\n",
       "      <td>787.099976</td>\n",
       "      <td>794.559998</td>\n",
       "      <td>1208700</td>\n",
       "    </tr>\n",
       "    <tr>\n",
       "      <th>3</th>\n",
       "      <td>12/22/2016</td>\n",
       "      <td>792.359985</td>\n",
       "      <td>793.320007</td>\n",
       "      <td>788.580017</td>\n",
       "      <td>791.260010</td>\n",
       "      <td>969100</td>\n",
       "    </tr>\n",
       "    <tr>\n",
       "      <th>4</th>\n",
       "      <td>12/23/2016</td>\n",
       "      <td>790.900024</td>\n",
       "      <td>792.739990</td>\n",
       "      <td>787.280029</td>\n",
       "      <td>789.909973</td>\n",
       "      <td>623400</td>\n",
       "    </tr>\n",
       "    <tr>\n",
       "      <th>...</th>\n",
       "      <td>...</td>\n",
       "      <td>...</td>\n",
       "      <td>...</td>\n",
       "      <td>...</td>\n",
       "      <td>...</td>\n",
       "      <td>...</td>\n",
       "    </tr>\n",
       "    <tr>\n",
       "      <th>56</th>\n",
       "      <td>3/13/2017</td>\n",
       "      <td>844.000000</td>\n",
       "      <td>848.684998</td>\n",
       "      <td>843.250000</td>\n",
       "      <td>845.539978</td>\n",
       "      <td>1149500</td>\n",
       "    </tr>\n",
       "    <tr>\n",
       "      <th>57</th>\n",
       "      <td>3/14/2017</td>\n",
       "      <td>843.640015</td>\n",
       "      <td>847.239990</td>\n",
       "      <td>840.799988</td>\n",
       "      <td>845.619995</td>\n",
       "      <td>779900</td>\n",
       "    </tr>\n",
       "    <tr>\n",
       "      <th>58</th>\n",
       "      <td>3/15/2017</td>\n",
       "      <td>847.590027</td>\n",
       "      <td>848.630005</td>\n",
       "      <td>840.770020</td>\n",
       "      <td>847.200012</td>\n",
       "      <td>1379600</td>\n",
       "    </tr>\n",
       "    <tr>\n",
       "      <th>59</th>\n",
       "      <td>3/16/2017</td>\n",
       "      <td>849.030029</td>\n",
       "      <td>850.849976</td>\n",
       "      <td>846.130005</td>\n",
       "      <td>848.780029</td>\n",
       "      <td>970400</td>\n",
       "    </tr>\n",
       "    <tr>\n",
       "      <th>60</th>\n",
       "      <td>3/17/2017</td>\n",
       "      <td>851.609985</td>\n",
       "      <td>853.400024</td>\n",
       "      <td>847.109985</td>\n",
       "      <td>852.119995</td>\n",
       "      <td>1712300</td>\n",
       "    </tr>\n",
       "  </tbody>\n",
       "</table>\n",
       "<p>61 rows × 6 columns</p>\n",
       "</div>"
      ],
      "text/plain": [
       "          Date        Open        High         Low       Close   Volume\n",
       "0   12/19/2016  790.219971  797.659973  786.270020  794.200012  1225900\n",
       "1   12/20/2016  796.760010  798.650024  793.270020  796.419983   925100\n",
       "2   12/21/2016  795.840027  796.676025  787.099976  794.559998  1208700\n",
       "3   12/22/2016  792.359985  793.320007  788.580017  791.260010   969100\n",
       "4   12/23/2016  790.900024  792.739990  787.280029  789.909973   623400\n",
       "..         ...         ...         ...         ...         ...      ...\n",
       "56   3/13/2017  844.000000  848.684998  843.250000  845.539978  1149500\n",
       "57   3/14/2017  843.640015  847.239990  840.799988  845.619995   779900\n",
       "58   3/15/2017  847.590027  848.630005  840.770020  847.200012  1379600\n",
       "59   3/16/2017  849.030029  850.849976  846.130005  848.780029   970400\n",
       "60   3/17/2017  851.609985  853.400024  847.109985  852.119995  1712300\n",
       "\n",
       "[61 rows x 6 columns]"
      ]
     },
     "execution_count": 2,
     "metadata": {},
     "output_type": "execute_result"
    }
   ],
   "source": [
    "df=pd.read_csv('goog1.csv')\n",
    "df"
   ]
  },
  {
   "cell_type": "code",
   "execution_count": 3,
   "metadata": {},
   "outputs": [],
   "source": [
    "from sklearn.preprocessing import MinMaxScaler\n",
    "scaler=MinMaxScaler()"
   ]
  },
  {
   "cell_type": "code",
   "execution_count": 4,
   "metadata": {},
   "outputs": [
    {
     "data": {
      "text/plain": [
       "array([[0.27870496],\n",
       "       [0.30635093],\n",
       "       [0.28318798],\n",
       "       [0.24209223],\n",
       "       [0.22527981],\n",
       "       [0.24570341],\n",
       "       [0.16475695],\n",
       "       [0.13661236],\n",
       "       [0.        ],\n",
       "       [0.17833138],\n",
       "       [0.18779601],\n",
       "       [0.27646347],\n",
       "       [0.42752207],\n",
       "       [0.43374872],\n",
       "       [0.41058501],\n",
       "       [0.44943925],\n",
       "       [0.43013678],\n",
       "       [0.44906604],\n",
       "       [0.4083435 ],\n",
       "       [0.42652559],\n",
       "       [0.37801975],\n",
       "       [0.41344979],\n",
       "       [0.5914072 ],\n",
       "       [0.64819422],\n",
       "       [0.79514303],\n",
       "       [0.75130792],\n",
       "       [0.64122041],\n",
       "       [0.37982571],\n",
       "       [0.31095859],\n",
       "       [0.29732258],\n",
       "       [0.33262797],\n",
       "       [0.36948926],\n",
       "       [0.36762172],\n",
       "       [0.43773312],\n",
       "       [0.4552927 ],\n",
       "       [0.4699875 ],\n",
       "       [0.52117039],\n",
       "       [0.59053537],\n",
       "       [0.60560414],\n",
       "       [0.58729739],\n",
       "       [0.6518054 ],\n",
       "       [0.70049824],\n",
       "       [0.74520517],\n",
       "       [0.73399766],\n",
       "       [0.74109613],\n",
       "       [0.70759672],\n",
       "       [0.71556701],\n",
       "       [0.63997538],\n",
       "       [0.7897882 ],\n",
       "       [0.73237866],\n",
       "       [0.7130762 ],\n",
       "       [0.69688705],\n",
       "       [0.74831849],\n",
       "       [0.79140719],\n",
       "       [0.8326276 ],\n",
       "       [0.88953927],\n",
       "       [0.91805706],\n",
       "       [0.91905354],\n",
       "       [0.93872997],\n",
       "       [0.95840639],\n",
       "       [1.        ]])"
      ]
     },
     "execution_count": 4,
     "metadata": {},
     "output_type": "execute_result"
    }
   ],
   "source": [
    "closed=scaler.fit_transform(df['Close'].values.reshape(-1,1))\n",
    "closed"
   ]
  },
  {
   "cell_type": "code",
   "execution_count": null,
   "metadata": {},
   "outputs": [],
   "source": [
    "train_data=closed[:int(len(closed)*0.8)]\n",
    "train_data.shape"
   ]
  },
  {
   "cell_type": "code",
   "execution_count": null,
   "metadata": {},
   "outputs": [],
   "source": [
    "test_data=closed[int(len(closed)*0.8):]\n",
    "test_data.shape"
   ]
  },
  {
   "cell_type": "code",
   "execution_count": 7,
   "metadata": {},
   "outputs": [],
   "source": [
    "def creat_seq(data,time=6):\n",
    "    x=[]\n",
    "    y=[]\n",
    "    for i in range(len(data)-time):\n",
    "        x.append(data[i:i+time,0])\n",
    "        y.append(data[i+time,0])\n",
    "    return np.array(x),np.array(y)"
   ]
  },
  {
   "cell_type": "code",
   "execution_count": 8,
   "metadata": {},
   "outputs": [],
   "source": [
    "xtrain,ytrain=creat_seq(train_data)\n",
    "xtest,ytest=creat_seq(test_data)"
   ]
  },
  {
   "cell_type": "code",
   "execution_count": 9,
   "metadata": {},
   "outputs": [],
   "source": [
    "model=Sequential()"
   ]
  },
  {
   "cell_type": "code",
   "execution_count": 10,
   "metadata": {},
   "outputs": [],
   "source": [
    "from tensorflow.keras.layers import Dense, LSTM\n",
    "model.add(LSTM(units=50, return_sequences=True ,input_shape=(6,1)))\n",
    "model.add(LSTM(units=50))\n",
    "model.add(Dense(units=1))"
   ]
  },
  {
   "cell_type": "code",
   "execution_count": 11,
   "metadata": {},
   "outputs": [
    {
     "data": {
      "text/plain": [
       "<bound method Model.summary of <keras.src.engine.sequential.Sequential object at 0x000002CCCBB75A50>>"
      ]
     },
     "execution_count": 11,
     "metadata": {},
     "output_type": "execute_result"
    }
   ],
   "source": [
    "model.summary"
   ]
  },
  {
   "cell_type": "code",
   "execution_count": 12,
   "metadata": {},
   "outputs": [],
   "source": [
    "model.compile(optimizer=\"adam\", loss=\"mse\", metrics=[\"mae\"])"
   ]
  },
  {
   "cell_type": "code",
   "execution_count": 13,
   "metadata": {},
   "outputs": [
    {
     "name": "stdout",
     "output_type": "stream",
     "text": [
      "Epoch 1/50\n",
      "2/2 [==============================] - 11s 24ms/step - loss: 0.2453 - mae: 0.4585\n",
      "Epoch 2/50\n",
      "2/2 [==============================] - 0s 18ms/step - loss: 0.1966 - mae: 0.4078\n",
      "Epoch 3/50\n",
      "2/2 [==============================] - 0s 17ms/step - loss: 0.1538 - mae: 0.3557\n",
      "Epoch 4/50\n",
      "2/2 [==============================] - 0s 15ms/step - loss: 0.1133 - mae: 0.2970\n",
      "Epoch 5/50\n",
      "2/2 [==============================] - 0s 18ms/step - loss: 0.0755 - mae: 0.2366\n",
      "Epoch 6/50\n",
      "2/2 [==============================] - 0s 22ms/step - loss: 0.0459 - mae: 0.1842\n",
      "Epoch 7/50\n",
      "2/2 [==============================] - 0s 20ms/step - loss: 0.0279 - mae: 0.1445\n",
      "Epoch 8/50\n",
      "2/2 [==============================] - 0s 15ms/step - loss: 0.0264 - mae: 0.1230\n",
      "Epoch 9/50\n",
      "2/2 [==============================] - 0s 13ms/step - loss: 0.0375 - mae: 0.1401\n",
      "Epoch 10/50\n",
      "2/2 [==============================] - 0s 21ms/step - loss: 0.0413 - mae: 0.1497\n",
      "Epoch 11/50\n",
      "2/2 [==============================] - 0s 19ms/step - loss: 0.0352 - mae: 0.1359\n",
      "Epoch 12/50\n",
      "2/2 [==============================] - 0s 17ms/step - loss: 0.0280 - mae: 0.1252\n",
      "Epoch 13/50\n",
      "2/2 [==============================] - 0s 19ms/step - loss: 0.0238 - mae: 0.1249\n",
      "Epoch 14/50\n",
      "2/2 [==============================] - 0s 20ms/step - loss: 0.0250 - mae: 0.1328\n",
      "Epoch 15/50\n",
      "2/2 [==============================] - 0s 16ms/step - loss: 0.0255 - mae: 0.1371\n",
      "Epoch 16/50\n",
      "2/2 [==============================] - 0s 19ms/step - loss: 0.0268 - mae: 0.1410\n",
      "Epoch 17/50\n",
      "2/2 [==============================] - 0s 21ms/step - loss: 0.0270 - mae: 0.1415\n",
      "Epoch 18/50\n",
      "2/2 [==============================] - 0s 18ms/step - loss: 0.0260 - mae: 0.1385\n",
      "Epoch 19/50\n",
      "2/2 [==============================] - 0s 14ms/step - loss: 0.0248 - mae: 0.1340\n",
      "Epoch 20/50\n",
      "2/2 [==============================] - 0s 20ms/step - loss: 0.0239 - mae: 0.1293\n",
      "Epoch 21/50\n",
      "2/2 [==============================] - 0s 20ms/step - loss: 0.0234 - mae: 0.1255\n",
      "Epoch 22/50\n",
      "2/2 [==============================] - 0s 16ms/step - loss: 0.0235 - mae: 0.1243\n",
      "Epoch 23/50\n",
      "2/2 [==============================] - 0s 18ms/step - loss: 0.0238 - mae: 0.1227\n",
      "Epoch 24/50\n",
      "2/2 [==============================] - 0s 18ms/step - loss: 0.0243 - mae: 0.1223\n",
      "Epoch 25/50\n",
      "2/2 [==============================] - 0s 22ms/step - loss: 0.0246 - mae: 0.1217\n",
      "Epoch 26/50\n",
      "2/2 [==============================] - 0s 21ms/step - loss: 0.0244 - mae: 0.1224\n",
      "Epoch 27/50\n",
      "2/2 [==============================] - 0s 18ms/step - loss: 0.0236 - mae: 0.1222\n",
      "Epoch 28/50\n",
      "2/2 [==============================] - 0s 17ms/step - loss: 0.0231 - mae: 0.1230\n",
      "Epoch 29/50\n",
      "2/2 [==============================] - 0s 40ms/step - loss: 0.0235 - mae: 0.1274\n",
      "Epoch 30/50\n",
      "2/2 [==============================] - 0s 27ms/step - loss: 0.0236 - mae: 0.1287\n",
      "Epoch 31/50\n",
      "2/2 [==============================] - 0s 22ms/step - loss: 0.0237 - mae: 0.1298\n",
      "Epoch 32/50\n",
      "2/2 [==============================] - 0s 18ms/step - loss: 0.0234 - mae: 0.1286\n",
      "Epoch 33/50\n",
      "2/2 [==============================] - 0s 17ms/step - loss: 0.0232 - mae: 0.1267\n",
      "Epoch 34/50\n",
      "2/2 [==============================] - 0s 23ms/step - loss: 0.0232 - mae: 0.1247\n",
      "Epoch 35/50\n",
      "2/2 [==============================] - 0s 19ms/step - loss: 0.0231 - mae: 0.1226\n",
      "Epoch 36/50\n",
      "2/2 [==============================] - 0s 15ms/step - loss: 0.0233 - mae: 0.1221\n",
      "Epoch 37/50\n",
      "2/2 [==============================] - 0s 15ms/step - loss: 0.0233 - mae: 0.1220\n",
      "Epoch 38/50\n",
      "2/2 [==============================] - 0s 61ms/step - loss: 0.0232 - mae: 0.1219\n",
      "Epoch 39/50\n",
      "2/2 [==============================] - 0s 19ms/step - loss: 0.0232 - mae: 0.1216\n",
      "Epoch 40/50\n",
      "2/2 [==============================] - 0s 21ms/step - loss: 0.0231 - mae: 0.1216\n",
      "Epoch 41/50\n",
      "2/2 [==============================] - 0s 19ms/step - loss: 0.0231 - mae: 0.1227\n",
      "Epoch 42/50\n",
      "2/2 [==============================] - 0s 15ms/step - loss: 0.0227 - mae: 0.1228\n",
      "Epoch 43/50\n",
      "2/2 [==============================] - 0s 15ms/step - loss: 0.0227 - mae: 0.1234\n",
      "Epoch 44/50\n",
      "2/2 [==============================] - 0s 17ms/step - loss: 0.0226 - mae: 0.1239\n",
      "Epoch 45/50\n",
      "2/2 [==============================] - 0s 17ms/step - loss: 0.0226 - mae: 0.1245\n",
      "Epoch 46/50\n",
      "2/2 [==============================] - 0s 20ms/step - loss: 0.0227 - mae: 0.1254\n",
      "Epoch 47/50\n",
      "2/2 [==============================] - 0s 16ms/step - loss: 0.0227 - mae: 0.1256\n",
      "Epoch 48/50\n",
      "2/2 [==============================] - 0s 17ms/step - loss: 0.0226 - mae: 0.1251\n",
      "Epoch 49/50\n",
      "2/2 [==============================] - 0s 23ms/step - loss: 0.0225 - mae: 0.1240\n",
      "Epoch 50/50\n",
      "2/2 [==============================] - 0s 22ms/step - loss: 0.0225 - mae: 0.1226\n"
     ]
    },
    {
     "data": {
      "text/plain": [
       "<keras.src.callbacks.History at 0x2ccccec1c90>"
      ]
     },
     "execution_count": 13,
     "metadata": {},
     "output_type": "execute_result"
    }
   ],
   "source": [
    "model.fit(xtrain,ytrain,epochs=50)"
   ]
  },
  {
   "cell_type": "code",
   "execution_count": 14,
   "metadata": {},
   "outputs": [
    {
     "name": "stdout",
     "output_type": "stream",
     "text": [
      "1/1 [==============================] - 2s 2s/step\n"
     ]
    }
   ],
   "source": [
    "ypred=model.predict(xtest)"
   ]
  },
  {
   "cell_type": "code",
   "execution_count": 15,
   "metadata": {},
   "outputs": [
    {
     "data": {
      "text/plain": [
       "array([[0.6853195 ],\n",
       "       [0.68725425],\n",
       "       [0.7028766 ],\n",
       "       [0.7259701 ],\n",
       "       [0.7530804 ],\n",
       "       [0.7758808 ],\n",
       "       [0.79532   ]], dtype=float32)"
      ]
     },
     "execution_count": 15,
     "metadata": {},
     "output_type": "execute_result"
    }
   ],
   "source": [
    "ypred"
   ]
  },
  {
   "cell_type": "code",
   "execution_count": 16,
   "metadata": {},
   "outputs": [],
   "source": [
    "ypred=scaler.inverse_transform(ypred)"
   ]
  },
  {
   "cell_type": "code",
   "execution_count": 17,
   "metadata": {},
   "outputs": [
    {
     "data": {
      "text/plain": [
       "array([[826.85114],\n",
       "       [827.0065 ],\n",
       "       [828.2609 ],\n",
       "       [830.1154 ],\n",
       "       [832.29236],\n",
       "       [834.1232 ],\n",
       "       [835.68414]], dtype=float32)"
      ]
     },
     "execution_count": 17,
     "metadata": {},
     "output_type": "execute_result"
    }
   ],
   "source": [
    "ypred"
   ]
  }
 ],
 "metadata": {
  "kernelspec": {
   "display_name": "Python 3",
   "language": "python",
   "name": "python3"
  },
  "language_info": {
   "codemirror_mode": {
    "name": "ipython",
    "version": 3
   },
   "file_extension": ".py",
   "mimetype": "text/x-python",
   "name": "python",
   "nbconvert_exporter": "python",
   "pygments_lexer": "ipython3",
   "version": "3.10.8"
  }
 },
 "nbformat": 4,
 "nbformat_minor": 2
}
